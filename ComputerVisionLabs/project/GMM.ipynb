{
 "cells": [
  {
   "cell_type": "code",
   "execution_count": 1,
   "metadata": {},
   "outputs": [],
   "source": [
    "from natsort import natsorted\n",
    "import matplotlib.pyplot as plt\n",
    "from glob import glob\n",
    "import json\n",
    "from functools import partial\n",
    "import numpy as np\n",
    "import imageio\n",
    "from skimage import img_as_float32\n",
    "import cv2 as cv2\n",
    "from math import pi, e, sqrt, cos, sin\n",
    "from scipy.stats import norm, multivariate_normal\n",
    "from scipy.spatial.distance import euclidean\n",
    "from scipy.ndimage import sobel\n",
    "from sklearn.metrics import accuracy_score\n",
    "from skimage.feature import hog\n",
    "from sklearn.decomposition import PCA\n",
    "import pandas as pd\n",
    "from sklearn.cluster import KMeans"
   ]
  },
  {
   "cell_type": "code",
   "execution_count": 32,
   "metadata": {},
   "outputs": [
    {
     "name": "stderr",
     "output_type": "stream",
     "text": [
      "/tmp/ipykernel_9518/1613280528.py:6: DeprecationWarning: Starting with ImageIO v3 the behavior of this function will switch to that of iio.v3.imread. To keep the current behavior (and make this warning dissapear) use `import imageio.v2 as imageio` or call `imageio.v2.imread` directly.\n",
      "  imgs = np.array([cv2.resize(img_as_float32(imageio.imread(ipath)), (256, 192)) for ipath, _ in path_pairs])\n",
      "/tmp/ipykernel_9518/1613280528.py:7: DeprecationWarning: Starting with ImageIO v3 the behavior of this function will switch to that of iio.v3.imread. To keep the current behavior (and make this warning dissapear) use `import imageio.v2 as imageio` or call `imageio.v2.imread` directly.\n",
      "  msks = np.array([cv2.resize(img_as_float32(imageio.imread(mpath)), (256, 192)) for _, mpath in path_pairs])\n"
     ]
    }
   ],
   "source": [
    "path_pairs = list(zip(\n",
    "natsorted(glob('./puzzle_corners_1024x768/images-1024x768/*.png')),\n",
    "natsorted(glob('./puzzle_corners_1024x768/masks-1024x768/*.png')),\n",
    "))\n",
    "\n",
    "imgs = np.array([cv2.resize(img_as_float32(imageio.imread(ipath)), (256, 192)) for ipath, _ in path_pairs])\n",
    "msks = np.array([cv2.resize(img_as_float32(imageio.imread(mpath)), (256, 192)) for _, mpath in path_pairs])"
   ]
  },
  {
   "cell_type": "code",
   "execution_count": 33,
   "metadata": {},
   "outputs": [],
   "source": [
    "def split(images, masks, train_size=0.7, validation_size=0.15, test_size=0.15, seed=42):\n",
    "\n",
    "    np.random.seed(seed)\n",
    "\n",
    "    ind = np.arange(len(images))\n",
    "    np.random.shuffle(ind)\n",
    "\n",
    "    train = ind[0 :int(len(images)*train_size) + 1]\n",
    "    val = ind[len(train):len(train) + int(len(images)*validation_size)]\n",
    "    test = ind[len(train)+len(val):len(train) + len(val) + int(len(images)*test_size)]\n",
    "\n",
    "    train_imgs = np.array([images[i] for i in train])\n",
    "    train_masks = np.array([masks[i] for i in train])\n",
    "\n",
    "    validate_imgs = np.array([images[i] for i in val])\n",
    "    validate_masks = np.array([masks[i] for i in val])\n",
    "\n",
    "    test_imgs = np.array([images[i] for i in test])\n",
    "    test_masks = np.array([masks[i] for i in test])\n",
    "\n",
    "\n",
    "    return train_imgs, train_masks, validate_imgs, validate_masks, test_imgs, test_masks\n",
    "\n",
    "def extract_features(image):\n",
    "\n",
    "    def norm(arr):\n",
    "        return (arr - np.min(arr))/(np.max(arr) - np.min(arr))\n",
    "\n",
    "    image = cv2.GaussianBlur(image, (7, 7), 3)\n",
    "\n",
    "    features = None\n",
    "    for rgb_channel in cv2.split(image):\n",
    "        if features is None:\n",
    "            features = np.array(rgb_channel.flatten().astype(np.float32))\n",
    "        else:\n",
    "            features = np.vstack((features, rgb_channel.flatten().astype(np.float32)))\n",
    "\n",
    "    image_hsv = cv2.cvtColor(image, cv2.COLOR_RGB2HSV)\n",
    "\n",
    "    for hsv_channel in cv2.split(image_hsv):\n",
    "        if features is None:\n",
    "            features = np.array(hsv_channel.flatten().astype(np.float32))\n",
    "        else:\n",
    "            features = np.vstack((features, norm(hsv_channel.flatten().astype(np.float32))))\n",
    "\n",
    "    return features\n",
    "    \n",
    "def apply_mask(features, mask, background=False):\n",
    "\n",
    "    data = []\n",
    "    mask = mask.astype(bool).flatten()\n",
    "    if background:\n",
    "        mask = np.invert(mask)\n",
    "    for feature in features:\n",
    "        masked = feature[mask == True]\n",
    "        data.append(masked.flatten())\n",
    "    return np.array(data)\n",
    "\n",
    "x_train, y_train, x_val, y_val, x_test, y_test = split(imgs, msks, train_size=0.7, validation_size=0.15, test_size=0.15)\n",
    "\n",
    "train_data = np.array([extract_features(train_image) for train_image in x_train])\n",
    "x_val = np.array([extract_features(validate_image) for validate_image in x_val])\n",
    "# x_test = np.array([extract_features(test_image) for test_image in x_test])\n",
    "\n",
    "train_bg_data = [apply_mask(features, mask, background=True) \n",
    "                for features, mask in zip(train_data, y_train)]\n",
    "train_fg_data = [apply_mask(features, mask, background=False) \n",
    "                for features, mask in zip(train_data, y_train)]\n",
    "\n",
    "train_bg_data = np.concatenate(train_bg_data, axis=1)\n",
    "train_fg_data = np.concatenate(train_fg_data, axis=1)"
   ]
  },
  {
   "cell_type": "code",
   "execution_count": 34,
   "metadata": {},
   "outputs": [],
   "source": [
    "class params():\n",
    "    def __init__(self, lmda, cov, mu):\n",
    "        self.lmda = lmda\n",
    "        self.cov = cov\n",
    "        self.mu = mu\n",
    "\n",
    "    def diff(self, other):\n",
    "        return np.abs(self.lmda - other.lmda) + euclidean(self.mu, other.mu) + euclidean(self.cov.flatten(), other.cov.flatten())\n",
    "\n",
    "class GMM():\n",
    "    def init_params(self, x):\n",
    "        n = x.shape[1]\n",
    "        \n",
    "        # Initial uniform disctribution\n",
    "        lmbda = 1 / self.k\n",
    "        # Initial means\n",
    "        if self.kmeans:\n",
    "            if self.kmeans_centers is None:\n",
    "                print('Finding K-means Centers')\n",
    "                self.kmeans_centers = np.squeeze(KMeans(n).fit(x.T.flatten().reshape(-1, 1)).cluster_centers_.reshape((1, n)))\n",
    "            mu = self.kmeans_centers\n",
    "        else:\n",
    "            mu = np.random.choice(x.flatten(), n)\n",
    "        # Iniital covariance\n",
    "        cov = np.random.random((n, n))\n",
    "        cov *= cov.T\n",
    "        cov += n * np.eye(n)\n",
    "        return params(lmbda, cov, mu)\n",
    "\n",
    "    def __init__(self, k, tol=1e-4, min_iter=5, max_iter=100, seed=42, kmeans=True):\n",
    "        self.k = k\n",
    "        self.tol = tol\n",
    "        self.min_iter = min_iter\n",
    "        self.max_iter = max_iter\n",
    "        self.seed = seed\n",
    "        self.kmeans = kmeans\n",
    "        self.kmeans_centers = None\n",
    "        self.params = None\n",
    "\n",
    "    def e_step(self, x, param):\n",
    "        n_samples = x.shape[0]\n",
    "        responsibilities = np.zeros((n_samples, self.k))\n",
    "        weighted_gaussians = np.zeros((n_samples, self.k))\n",
    "        # Get normal distributions using current parameter set\n",
    "        for i in range(self.k):\n",
    "            weighted_gaussians[:, i] = param[i].lmda * \\\n",
    "                                       multivariate_normal.pdf(x, param[i].mu, param[i].cov)\n",
    "        # Compute responsibility for each cluster\n",
    "        for i in range(self.k):\n",
    "            responsibilities[:, i] = weighted_gaussians[:, i] / np.sum(weighted_gaussians, axis=1, initial=1e-10)\n",
    "        return responsibilities\n",
    "\n",
    "    def m_step(self, x, res):\n",
    "        gaussian_parameters = []\n",
    "        for i in range(self.k):\n",
    "            k_sum_responsibility = np.sum(res[:, i])\n",
    "            lmbda = k_sum_responsibility / (np.sum(np.sum(res, axis=1)))\n",
    "            mu = np.dot(res[:, i], x) / k_sum_responsibility\n",
    "            standardised_x = x - mu\n",
    "            cov = np.dot((standardised_x.T * res[:, i]), standardised_x) / k_sum_responsibility\n",
    "            # Add small value to diagonal to prevent singular matrix\n",
    "            cov += np.eye(len(cov)) * 1e-10\n",
    "            gaussian_parameters.append(params(lmbda, cov, mu))\n",
    "        return gaussian_parameters\n",
    "\n",
    "    def fit(self, X):\n",
    "        done = False\n",
    "\n",
    "        i = 0\n",
    "        param = [self.init_params(X) for _k in range(self.k)]\n",
    "        while not done and i < self.max_iter:\n",
    "            res = self.e_step(X, param)\n",
    "            param_new = self.m_step(X, res)\n",
    "\n",
    "            change_total = 0\n",
    "\n",
    "            for _k, p in enumerate(param_new):\n",
    "                change_total += p.diff(param[_k])\n",
    "\n",
    "            done = change_total < self.tol and i >= self.min_iter\n",
    "\n",
    "            print(f'Iter {i} : Change {change_total}')\n",
    "\n",
    "            i += 1\n",
    "            param = param_new\n",
    "\n",
    "        self.params = param\n",
    "\n",
    "    def predict(self, X):\n",
    "        n = X.shape[0]\n",
    "        g_pdfs = np.zeros((X.shape[0], X.shape[1], self.k))\n",
    "\n",
    "        for i in range(self.k):\n",
    "            g_pdfs[:,:, i] = self.params[i].lmda * multivariate_normal(self.params[i].mu, self.params[i].cov).pdf(X)\n",
    "        return np.sum(g_pdfs, axis=2)"
   ]
  },
  {
   "cell_type": "code",
   "execution_count": 35,
   "metadata": {},
   "outputs": [
    {
     "name": "stdout",
     "output_type": "stream",
     "text": [
      "Finding K-means Centers\n",
      "Iter 0 : Change 81.41780760310027\n",
      "Iter 1 : Change 0.038185207368400934\n",
      "Iter 2 : Change 0.005850184704154975\n",
      "Iter 3 : Change 0.015153188477708102\n",
      "Iter 4 : Change 0.08019974427110577\n",
      "Iter 5 : Change 0.21449699540704226\n",
      "Iter 6 : Change 0.2205418799304941\n",
      "Iter 7 : Change 0.23157988849627464\n",
      "Iter 8 : Change 0.20502053578743037\n",
      "Iter 9 : Change 0.21796497868349896\n",
      "Iter 10 : Change 0.18979775695937798\n",
      "Iter 11 : Change 0.12298883344146441\n",
      "Iter 12 : Change 0.08217867679702605\n",
      "Iter 13 : Change 0.06308667877476654\n",
      "Iter 14 : Change 0.051885274875422736\n",
      "Iter 15 : Change 0.04537216592977831\n",
      "Iter 16 : Change 0.04278262436446022\n",
      "Iter 17 : Change 0.04279708350335903\n",
      "Iter 18 : Change 0.04249147012784016\n",
      "Iter 19 : Change 0.041061659156763235\n",
      "Iter 20 : Change 0.03982765605594219\n",
      "Iter 21 : Change 0.03397989957026996\n",
      "Iter 22 : Change 0.02524281061700245\n",
      "Iter 23 : Change 0.02127970724935755\n",
      "Iter 24 : Change 0.02063053812369218\n",
      "Iter 25 : Change 0.018174014750640483\n",
      "Iter 26 : Change 0.013836396496312577\n",
      "Iter 27 : Change 0.009249677463970488\n",
      "Iter 28 : Change 0.005918735321650439\n",
      "Iter 29 : Change 0.003708652990941296\n",
      "Iter 30 : Change 0.002396543361307957\n",
      "Iter 31 : Change 0.0016919900601365398\n",
      "Iter 32 : Change 0.0012737837003582784\n",
      "Iter 33 : Change 0.0010131342664911208\n",
      "Iter 34 : Change 0.0008427061592213775\n"
     ]
    }
   ],
   "source": [
    "bg = GMM(5, kmeans=True, tol=1e-3, min_iter=0, max_iter=50)\n",
    "bg.fit(train_bg_data.T)"
   ]
  },
  {
   "cell_type": "code",
   "execution_count": 36,
   "metadata": {},
   "outputs": [
    {
     "name": "stdout",
     "output_type": "stream",
     "text": [
      "Finding K-means Centers\n",
      "Iter 0 : Change 79.56002111938746\n",
      "Iter 1 : Change 0.009941333294778488\n",
      "Iter 2 : Change 0.027870216564074346\n",
      "Iter 3 : Change 0.18035159294595424\n",
      "Iter 4 : Change 0.5173837029257491\n",
      "Iter 5 : Change 0.7396027112932415\n",
      "Iter 6 : Change 0.6882220047141869\n",
      "Iter 7 : Change 0.6198030164484474\n",
      "Iter 8 : Change 0.5295727472822915\n",
      "Iter 9 : Change 0.25889535273560316\n",
      "Iter 10 : Change 0.12671787247843888\n",
      "Iter 11 : Change 0.07429185745872448\n",
      "Iter 12 : Change 0.048165233789396564\n",
      "Iter 13 : Change 0.036471961637940656\n",
      "Iter 14 : Change 0.031112756531920423\n",
      "Iter 15 : Change 0.028139861470700224\n",
      "Iter 16 : Change 0.026959678474257936\n",
      "Iter 17 : Change 0.026826659724362566\n",
      "Iter 18 : Change 0.02760124472413617\n",
      "Iter 19 : Change 0.02893349133809872\n",
      "Iter 20 : Change 0.030439347880872627\n",
      "Iter 21 : Change 0.031802526670541745\n",
      "Iter 22 : Change 0.03297714639538995\n",
      "Iter 23 : Change 0.03455520581674146\n",
      "Iter 24 : Change 0.037746917057357415\n",
      "Iter 25 : Change 0.0480470768074875\n",
      "Iter 26 : Change 0.08238357771834945\n",
      "Iter 27 : Change 0.07030565468254082\n",
      "Iter 28 : Change 0.07005185680674825\n",
      "Iter 29 : Change 0.09240340307457581\n",
      "Iter 30 : Change 0.18912605511078157\n",
      "Iter 31 : Change 0.22775312958220045\n",
      "Iter 32 : Change 0.22540044406223916\n",
      "Iter 33 : Change 0.15314117043442796\n",
      "Iter 34 : Change 0.07720516175503649\n",
      "Iter 35 : Change 0.04742749253616846\n",
      "Iter 36 : Change 0.03727040995728841\n",
      "Iter 37 : Change 0.03222619295625926\n",
      "Iter 38 : Change 0.03063221560888265\n",
      "Iter 39 : Change 0.031118323303701692\n",
      "Iter 40 : Change 0.03282056968395227\n",
      "Iter 41 : Change 0.03586716276029679\n",
      "Iter 42 : Change 0.04071538157373733\n",
      "Iter 43 : Change 0.04821016657780413\n",
      "Iter 44 : Change 0.05952158698749942\n",
      "Iter 45 : Change 0.0742594675196567\n",
      "Iter 46 : Change 0.0783132848071856\n",
      "Iter 47 : Change 0.057876777515640423\n",
      "Iter 48 : Change 0.059377753449343866\n",
      "Iter 49 : Change 0.07487572633320085\n"
     ]
    }
   ],
   "source": [
    "fg = GMM(5, kmeans=True, tol=1e-3, min_iter=0, max_iter=50)\n",
    "fg.fit(train_fg_data.T)"
   ]
  },
  {
   "cell_type": "code",
   "execution_count": 37,
   "metadata": {},
   "outputs": [
    {
     "name": "stdout",
     "output_type": "stream",
     "text": [
      "Prediction #1, accuracy:98.1%\n"
     ]
    },
    {
     "data": {
      "image/png": "[encoded data removed]",
      "text/plain": [
       "<Figure size 432x288 with 1 Axes>"
      ]
     },
     "metadata": {},
     "output_type": "display_data"
    },
    {
     "name": "stdout",
     "output_type": "stream",
     "text": [
      "Prediction #2, accuracy:98.76%\n"
     ]
    },
    {
     "data": {
      "image/png": "[encoded data removed]",
      "text/plain": [
       "<Figure size 432x288 with 1 Axes>"
      ]
     },
     "metadata": {},
     "output_type": "display_data"
    },
    {
     "name": "stdout",
     "output_type": "stream",
     "text": [
      "Prediction #3, accuracy:98.36%\n"
     ]
    },
    {
     "data": {
      "image/png": "[encoded data removed]",
      "text/plain": [
       "<Figure size 432x288 with 1 Axes>"
      ]
     },
     "metadata": {},
     "output_type": "display_data"
    },
    {
     "name": "stdout",
     "output_type": "stream",
     "text": [
      "Prediction #4, accuracy:94.02%\n"
     ]
    },
    {
     "data": {
      "image/png": "[encoded data removed]",
      "text/plain": [
       "<Figure size 432x288 with 1 Axes>"
      ]
     },
     "metadata": {},
     "output_type": "display_data"
    },
    {
     "name": "stdout",
     "output_type": "stream",
     "text": [
      "Prediction #5, accuracy:99.06%\n"
     ]
    },
    {
     "data": {
      "image/png": "[encoded data removed]",
      "text/plain": [
       "<Figure size 432x288 with 1 Axes>"
      ]
     },
     "metadata": {},
     "output_type": "display_data"
    },
    {
     "name": "stdout",
     "output_type": "stream",
     "text": [
      "Prediction #6, accuracy:98.26%\n"
     ]
    },
    {
     "data": {
      "image/png": "[encoded data removed]",
      "text/plain": [
       "<Figure size 432x288 with 1 Axes>"
      ]
     },
     "metadata": {},
     "output_type": "display_data"
    },
    {
     "name": "stdout",
     "output_type": "stream",
     "text": [
      "Prediction #7, accuracy:98.22%\n"
     ]
    },
    {
     "data": {
      "image/png": "[encoded data removed]",
      "text/plain": [
       "<Figure size 432x288 with 1 Axes>"
      ]
     },
     "metadata": {},
     "output_type": "display_data"
    },
    {
     "name": "stdout",
     "output_type": "stream",
     "text": [
      "Average accuracy:97.83%\n"
     ]
    }
   ],
   "source": [
    "def show_image(image,cs=False,cmap= None, title=None):\n",
    "    plt.title(title)\n",
    "    plt.imshow(image.reshape((192, 256)), cmap= cmap)\n",
    "    plt.xticks([])\n",
    "    plt.yticks([])\n",
    "\n",
    "def predict(gmm, X):\n",
    "    \n",
    "    n = X.shape[0]\n",
    "    g_pdfs = np.zeros((X.shape[0], gmm.k))\n",
    "\n",
    "    for i in range(gmm.k):\n",
    "        g_pdfs[:, i] = gmm.params[i].lmda * multivariate_normal(gmm.params[i].mu, gmm.params[i].cov).pdf(X)\n",
    "    return np.sum(g_pdfs, axis=1)\n",
    "\n",
    "def predict_foreground(X, bg_gmm, fg_gmm, lmbda):\n",
    "\n",
    "    fg_dist = predict(fg_gmm, X)\n",
    "    bg_dist = predict(bg_gmm, X)\n",
    "    y = (lmbda * fg_dist) / ((lmbda * fg_dist) + ((1 - lmbda) * bg_dist))\n",
    "    return (y >= 0.5).astype(np.float32)\n",
    "\n",
    "\n",
    "def validate_predictions(validation_data, validation_masks, bg_gmm, fg_gmm, lmbda, plot=True):\n",
    "    \"\"\"Predictions on validation set, and average results\"\"\"\n",
    "    predict_count = 0\n",
    "    total_score = 0\n",
    "    for data, mask in zip(validation_data, validation_masks):\n",
    "        predict_count += 1\n",
    "        y = predict_foreground(data.T, bg_gmm, fg_gmm, lmbda=lmbda)\n",
    "        score = accuracy_score(y.flatten() + 1, mask.flatten().round() + 1)\n",
    "        print(\"Prediction #{0}, accuracy:{1}%\".format(predict_count, round(score *100, 2)) )\n",
    "        total_score += score\n",
    "        if plot:\n",
    "            show_image(y, cmap='gray')\n",
    "            plt.show()\n",
    "    print(\"Average accuracy:{0}%\".format(round(total_score/predict_count *100, 2)) )\n",
    "\n",
    "def get_lmda(masks):\n",
    "    f = 0\n",
    "    t = 0\n",
    "    for m in masks:\n",
    "        f += np.sum(m)\n",
    "        t += np.prod(m.shape)\n",
    "\n",
    "    return f/t\n",
    "\n",
    "lmda = get_lmda(y_val)\n",
    "validate_predictions(x_val, y_val, bg, fg, lmbda=lmda)"
   ]
  },
  {
   "cell_type": "code",
   "execution_count": 38,
   "metadata": {},
   "outputs": [
    {
     "data": {
      "text/plain": [
       "(7, 6, 49152)"
      ]
     },
     "execution_count": 38,
     "metadata": {},
     "output_type": "execute_result"
    }
   ],
   "source": [
    "x_val.shape"
   ]
  },
  {
   "cell_type": "markdown",
   "metadata": {},
   "source": [
    "Just RGB: 98.34%\n",
    "\n",
    "RGB+HSV: 98.39%\n",
    "\n",
    "RGB+HSV Blurred: 98.4%\n",
    "\n",
    "RGB+HSV Blurred 7x7: 98.55%\n",
    "\n",
    "RGB+HSV Blurred 7x7, sigma=3: 97.83%\n",
    "\n",
    "\n",
    "Blurred RGB (3,3): 98.13%\n",
    "\n",
    "Blurred RGB (7,7): 98.05%"
   ]
  }
 ],
 "metadata": {
  "kernelspec": {
   "display_name": "Python 3.10.6 64-bit",
   "language": "python",
   "name": "python3"
  },
  "language_info": {
   "codemirror_mode": {
    "name": "ipython",
    "version": 3
   },
   "file_extension": ".py",
   "mimetype": "text/x-python",
   "name": "python",
   "nbconvert_exporter": "python",
   "pygments_lexer": "ipython3",
   "version": "3.10.6"
  },
  "orig_nbformat": 4,
  "vscode": {
   "interpreter": {
    "hash": "916dbcbb3f70747c44a77c7bcd40155683ae19c65e1c03b4aa3499c5328201f1"
   }
  }
 },
 "nbformat": 4,
 "nbformat_minor": 2
}
